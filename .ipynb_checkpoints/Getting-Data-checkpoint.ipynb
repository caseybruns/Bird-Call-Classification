{
 "cells": [
  {
   "cell_type": "markdown",
   "metadata": {},
   "source": [
    "# Getting Data"
   ]
  },
  {
   "cell_type": "markdown",
   "metadata": {},
   "source": [
    "#### Imports"
   ]
  },
  {
   "cell_type": "code",
   "execution_count": null,
   "metadata": {},
   "outputs": [],
   "source": [
    "from selenium import webdriver\n",
    "from selenium.webdriver.common.keys import Keys\n",
    "import requests\n",
    "import json\n",
    "import pandas as pd\n",
    "from bs4 import BeautifulSoup\n",
    "import os\n",
    "import subprocess"
   ]
  },
  {
   "cell_type": "markdown",
   "metadata": {},
   "source": [
    "#### Get species list\n",
    "To use the selenium function below, I first needed to build a list of species for it to search with. Since there are several hundred species in North America, I went to [Cornell Lab of Ornithology](https://birdsna.org/Species-Account/bna/species) to scrape all of these species names. In addition to this, I gathered the family name for each species to have a filtering option."
   ]
  },
  {
   "cell_type": "code",
   "execution_count": null,
   "metadata": {},
   "outputs": [],
   "source": [
    "base_url = \"https://birdsna.org/Species-Account/bna/species\"\n",
    "res = requests.get(base_url)\n",
    "soup = BeautifulSoup(res.content)\n",
    "\n",
    "both = []\n",
    "table = soup.find(('ul', {'class': 'ListGrid-list'}))\n",
    "for f in table.find_all('h3', {'class':'ListGrid-key notranslate'}):\n",
    "    family_table = table.find('li',{'id': f'{f.text}'})\n",
    "    for s in family_table.find_all('em',{'class': 'Sci TextLight notranslate'}):\n",
    "        combine = [s.text, f.text]\n",
    "        both.append(combine)\n",
    "\n",
    "family = []\n",
    "species = []\n",
    "for i in both:\n",
    "    family.append(i[1])\n",
    "    species.append(i[0])\n",
    "    \n",
    "dct = {}\n",
    "dct['family'] = family\n",
    "dct['species'] = species\n",
    "\n",
    "df = pd.DataFrame(dct)\n",
    "df.to_csv('family_species.csv')"
   ]
  },
  {
   "cell_type": "code",
   "execution_count": null,
   "metadata": {},
   "outputs": [],
   "source": [
    "len(species)"
   ]
  },
  {
   "cell_type": "code",
   "execution_count": null,
   "metadata": {},
   "outputs": [],
   "source": [
    "df['family'].value_counts()"
   ]
  },
  {
   "cell_type": "markdown",
   "metadata": {},
   "source": [
    "#### Selenium setup\n",
    "Additional steps that were taken outside of this notebook:\n",
    "- created the folder for the files to land in called `mp3_downloads`\n",
    "- downloaded [chromedriver](https://chromedriver.chromium.org/) and copied in filepath to that download"
   ]
  },
  {
   "cell_type": "code",
   "execution_count": null,
   "metadata": {},
   "outputs": [],
   "source": [
    "# instantiate\n",
    "options = webdriver.ChromeOptions()\n",
    "\n",
    "# specify where the files will be downloaded\n",
    "download_dir = 'FILE_PATH/mp3_downloads//'\n",
    "\n",
    "# set download guides into a dictionary\n",
    "preferences = {'download.default_directory': download_dir,\n",
    "              \"download.prompt_for_download\": False}\n",
    "\n",
    "# define options\n",
    "options.add_experimental_option('prefs', preferences)\n",
    "\n",
    "# define driver\n",
    "driver = webdriver.Chrome(executable_path='FILE_PATH/chromedriver', options=options);\n",
    "\n",
    "# add in wait function to not override webstie/computer\n",
    "driver.implicitly_wait(3)\n",
    "\n",
    "# set in url to retrieve from\n",
    "driver.get('https://www.xeno-canto.org/explore')\n"
   ]
  },
  {
   "cell_type": "markdown",
   "metadata": {},
   "source": [
    "#### Selenium\n",
    "- **Step 1. Move through list of species**\n",
    "    - selenium has to go to the search bar and enter in the species name and click submit to bring up the page with the audio files for that species.\n",
    "    \n",
    "    \n",
    "- **Step 2. Download each audio file for each page in the search results**\n",
    "    - selenium needs to click on each download button on the page, then click next. This process is repeated until there the 'Next' button no longer exists.\n",
    "    \n",
    "\n",
    "- **Note**\n",
    "    - this code could be improved by accounting for breaking. Sometimes there are no recordings for some species. Sometimes the website breaks. Adding in measures like `time.sleep()` or more `try/except` statements could help to counter act this.\n",
    "    - My solution was to index species to start after the code broke.\n",
    "        - If the code broke with the counter at 103\n",
    "        - I would change the for loop to start with `species_list = species[103:]`"
   ]
  },
  {
   "cell_type": "code",
   "execution_count": null,
   "metadata": {},
   "outputs": [],
   "source": [
    "## Step One: Move through list of species ##\n",
    "species_list = species\n",
    "counter = 0\n",
    "\n",
    "for species in species_list:        \n",
    "    element = driver.find_elements_by_xpath(\"//input[@placeholder='Search recordings...']\") #find searchbar\n",
    "    element[0].clear() #make sure it's clear\n",
    "    element[0].send_keys(species) #input species name\n",
    "    element[0].submit() #click submit\n",
    "    counter += 1\n",
    "\n",
    "    ## Step Two: Move through each page and grab everything ##\n",
    "\n",
    "    #download first page of results\n",
    "    elems = driver.find_elements_by_xpath(\"//*[contains(@src, '/static/img/download.png')]\")\n",
    "    for elem in elems:\n",
    "        elem.click() \n",
    "    # while there's a 'Next' button\n",
    "    while True:\n",
    "        try:\n",
    "            #click the 'Next' button\n",
    "            driver.find_element_by_xpath(\"//*[contains(text(), 'Next')]\").click()\n",
    "            # download that page of results\n",
    "            elems = driver.find_elements_by_xpath(\"//*[contains(@src, '/static/img/download.png')]\")\n",
    "            for elem in elems:\n",
    "                elem.click()\n",
    "\n",
    "        #if there's no 'Next' button return some status statements and then go to next species in list\n",
    "        except:\n",
    "            if counter % 100 == 0:\n",
    "                break\n",
    "            elif counter == 765:\n",
    "                print(f'Done! Reached the end for all {counter} species')\n",
    "                break\n",
    "            else:\n",
    "                break"
   ]
  },
  {
   "cell_type": "markdown",
   "metadata": {},
   "source": [
    "#### Convert to wav and save as csv\n",
    "- The filenames is not modified at all coming in, so it reads in a bit messy. Most are look something like this: `XC18350 - Northern Mockingbird - Mimus polyglottos`\n",
    "\n",
    "\n",
    "- For the purposes of reading these files and getting them ready for modeling, it is not required to have these filenames cleaned. The format of the `EDA.ipynb` is simply have the filenames callable. So they just need to be in dataframe along with their class (i.e. `Northern Mockingbird`)"
   ]
  },
  {
   "cell_type": "code",
   "execution_count": null,
   "metadata": {},
   "outputs": [],
   "source": [
    "# Create empty lists to append to\n",
    "wav = []\n",
    "bird_names = []\n",
    "\n",
    "# go through each filename in the mp3_downloads folder\n",
    "for filename in os.listdir('FILE_PATH/mp3_downloads'):\n",
    "    \n",
    "    #double check it's an mp3 file\n",
    "    if '.mp3' in filename:\n",
    "        \n",
    "        #define FILE_PATH\n",
    "        src = f'FILE_PATH/mp3_downloads/{filename}'\n",
    "        dst = f'FILE_PATH/wav_downloads/{filename[:-4]}.wav'\n",
    "\n",
    "        #convert to wav and save in correct folder\n",
    "        subprocess.call(['ffmpeg', '-i', src, dst])\n",
    "        \n",
    "        #append names to empty lists\n",
    "        wav.append(f'{filename[:-4]}.wav')\n",
    "        bird_names.append(filename.split(' - ')[1])\n",
    "    \n",
    "    #print the non-mp3 files for reference\n",
    "    else:\n",
    "        print(filename, 'whoops')\n",
    "        \n",
    "\n",
    "# create empty dictionary\n",
    "dct = {}\n",
    "\n",
    "#create wav and bird_name\n",
    "dct['wav'] = wav\n",
    "dct['bird_names'] = bird_names\n",
    "\n",
    "# call pd.DataFrame on dictionary\n",
    "df = pd.DataFrame(dct)\n",
    "\n",
    "# save df to csv\n",
    "df.to_csv('FILE_PATH/wav_species.csv', index=False)\n"
   ]
  },
  {
   "cell_type": "code",
   "execution_count": null,
   "metadata": {},
   "outputs": [],
   "source": []
  }
 ],
 "metadata": {
  "kernelspec": {
   "display_name": "Python 3",
   "language": "python",
   "name": "python3"
  },
  "language_info": {
   "codemirror_mode": {
    "name": "ipython",
    "version": 3
   },
   "file_extension": ".py",
   "mimetype": "text/x-python",
   "name": "python",
   "nbconvert_exporter": "python",
   "pygments_lexer": "ipython3",
   "version": "3.6.9"
  }
 },
 "nbformat": 4,
 "nbformat_minor": 2
}
